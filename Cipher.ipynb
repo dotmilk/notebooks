{
 "cells": [
  {
   "cell_type": "markdown",
   "metadata": {
    "collapsed": false
   },
   "source": [
    "Some imports and lang features // Not all in use right now"
   ]
  },
  {
   "cell_type": "code",
   "execution_count": 9,
   "metadata": {
    "collapsed": false
   },
   "outputs": [],
   "source": [
    ":opt no-lint\n",
    "{-# LANGUAGE DefaultSignatures #-}\n",
    "{-# LANGUAGE GADTs #-}\n",
    "{-# LANGUAGE GeneralizedNewtypeDeriving #-}\n",
    "{-# LANGUAGE NamedFieldPuns#-}\n",
    "import Control.Monad.State -- (StateT)\n",
    "import Control.Monad.Identity\n",
    "import Debug.Trace\n",
    "import Data.Maybe\n",
    "import Data.Bits\n",
    "import Data.List\n",
    "import Data.Function (fix)"
   ]
  },
  {
   "cell_type": "markdown",
   "metadata": {
    "collapsed": false
   },
   "source": [
    "Types"
   ]
  },
  {
   "cell_type": "code",
   "execution_count": 10,
   "metadata": {
    "collapsed": false
   },
   "outputs": [],
   "source": [
    "data CoderState = CS {\n",
    "  ringSize :: Int, -- (modsize for bucket select)\n",
    "  start :: Int, -- (how far in a stream)\n",
    "  buckets :: [Int], -- (bucket starts)\n",
    "  output :: String, -- (output)\n",
    "  key :: String } -- (key)\n",
    "  deriving (Show,Eq)"
   ]
  },
  {
   "cell_type": "markdown",
   "metadata": {
    "collapsed": false
   },
   "source": [
    "Some utility functions and assorted debris"
   ]
  },
  {
   "cell_type": "code",
   "execution_count": 11,
   "metadata": {
    "collapsed": false
   },
   "outputs": [],
   "source": [
    "memoize :: (Num a1, Enum a1) => (a1 -> a2) -> Int -> a2\n",
    "memoize f = (map f [0 ..] !!)\n",
    "\n",
    "fib :: (Eq a, Num a, Num p) => (a -> p) -> a -> p\n",
    "fib f 0 = 0\n",
    "fib f 1 = 1\n",
    "fib f n = f (n - 1) + f (n - 2)\n",
    "\n",
    "fibMemo :: Int -> Integer\n",
    "fibMemo = fix (memoize . fib)\n",
    "\n",
    "whichBucket :: Integral a => a -> a\n",
    "whichBucket n = mod n 5\n",
    "\n",
    "pickBucket :: [a] -> Int -> a\n",
    "pickBucket buckets = (buckets !!)\n",
    "\n",
    "modifyBucket :: [a] -> Int -> a -> [a]\n",
    "modifyBucket xs n newElement = take n xs ++ [newElement] ++ drop (n + 1) xs\n",
    "\n",
    "getInPos :: Char -> Int\n",
    "getInPos l = fromMaybe 0 $ elemIndex l alphabet\n",
    "\n",
    "-- deomstrating we could use an arbitrary indexed sequence  like n-th fib to further 'scramble' our stuff\n",
    "doRing :: Integral p => Int -> p -> p\n",
    "doRing _ 0 = 0\n",
    "doRing index ring = (mod (fromIntegral (fibMemo index)) ring)"
   ]
  },
  {
   "cell_type": "markdown",
   "metadata": {
    "collapsed": false
   },
   "source": [
    "Some setup work"
   ]
  },
  {
   "cell_type": "code",
   "execution_count": 12,
   "metadata": {
    "collapsed": false
   },
   "outputs": [],
   "source": [
    "-- scrambled\n",
    "--alphabet    = \"BHu!x.VJeWaXQdiwtfpK#LTMYkbO gEs$ySDr@Io&mzRlGhF,ZcCnPv*qjNUA?\"\n",
    "--alphabetOut = \"BHu0x1VJeWaXQdiwtfpK9LTMYkbO8gEs3ySDr4Io7mzRlGhF6ZcCnPv5qjNUA2\"\n",
    "-- full\n",
    "--alphabet    = \" !@#$,.'*?ABCDEFGHIJKLMNOPQRSTUVWXYZabcdefghijklmnopqrstuvwxyz\"\n",
    "--alphabetOut = \"0123456789ABCDEFGHIJKLMNOPQRSTUVWXYZabcdefghijklmnopqrstuvwxyz\"\n",
    "  \n",
    "-- length 59 -- since in the liber we don't see f y z in the text on pages 49-51\n",
    "alphabet    = \" !fyz,.'*?ABCDEFGHIJKLMNOPQRSTUVWXYZabcdeghijklmnopqrstuvwx\"\n",
    "alphabetOut = \"0123456789ABCDEFGHIJKLMNOPQRSTUVWXYZabcdeghijklmnopqrstuvwx\"\n",
    "-- CS (modsize for bucket select) (how far in a stream) (bucket starts) (output) (key)\n",
    "startCS key  = CS 11 1200 [2, 3, 5, 7, 11] \"\" $ cycle key\n",
    "noRingCS key = CS 0    0 [0, 1, 2, 3, 4] \"\" $ cycle key"
   ]
  },
  {
   "cell_type": "markdown",
   "metadata": {
    "collapsed": false
   },
   "source": [
    "Ok now the worky bois"
   ]
  },
  {
   "cell_type": "code",
   "execution_count": 13,
   "metadata": {
    "collapsed": false
   },
   "outputs": [],
   "source": [
    "decoder :: [Char] -> CoderState -> [Char]\n",
    "decoder (b:x:xs) cs@CS{start,buckets,key=(k:ks),output} = let\n",
    "  bucketIndex = read [b] :: Int\n",
    "  bucket = pickBucket buckets bucketIndex\n",
    "  code = (fromMaybe 0 $ elemIndex k alphabet)\n",
    "  cipher = (fromMaybe 0 $ elemIndex x alphabetOut)\n",
    "  modifiedBuckets = modifyBucket buckets bucketIndex (code + bucket)\n",
    "  newX = alphabet !! (mod (cipher - (code + bucket + start)) (length alphabet))\n",
    "  in\n",
    "    decoder xs cs{start=start+1,buckets=modifiedBuckets,key=ks,output=(newX:output)}\n",
    "decoder _ cs@CS{output} = reverse output\n",
    "\n",
    "encoder :: [Char] -> CoderState -> [Char]\n",
    "encoder (x:xs) cs@CS{ringSize,start,buckets,key=(k:ks),output} = let\n",
    "  code = getInPos k\n",
    "  plain = getInPos x\n",
    "  bucketIndex = whichBucket (getInPos k + doRing start ringSize)\n",
    "  bucket = pickBucket buckets bucketIndex\n",
    "  modifiedBuckets = modifyBucket buckets bucketIndex (code + bucket)\n",
    "  newX = alphabetOut !! (mod (code + bucket + plain + start) (length alphabet))\n",
    "  in \n",
    "    encoder xs cs{start=start+1,buckets=modifiedBuckets,key=ks,output=((reverse $ show bucketIndex ++ [newX]) ++ output)}\n",
    "encoder [] cs@CS{output} = reverse output"
   ]
  },
  {
   "cell_type": "markdown",
   "metadata": {
    "collapsed": false
   },
   "source": [
    "Time for fun now"
   ]
  },
  {
   "cell_type": "code",
   "execution_count": 14,
   "metadata": {
    "collapsed": false
   },
   "outputs": [],
   "source": [
    "aKey = \"ThIs ciphEr iSnt thAt haRd prObably\"\n",
    "aMessage = \"If you can read this, then what are you doing with your life?\""
   ]
  },
  {
   "cell_type": "markdown",
   "metadata": {
    "collapsed": false
   },
   "source": [
    "Lets do it"
   ]
  },
  {
   "cell_type": "code",
   "execution_count": 15,
   "metadata": {
    "collapsed": false
   },
   "outputs": [
    {
     "data": {
      "text/plain": [
       "\"2D2e1i0M0A0u4L2E0M4R4W1k0E0d2B000u4H1Q4e2b1k1O1o400c3s4B4o49463Z0B0F074k4W0b1C0o09044A2R2Z0B0A1r1X3P1Z1d2l1H1P4Y0912030A0J\""
      ]
     },
     "metadata": {},
     "output_type": "display_data"
    }
   ],
   "source": [
    "encoder aMessage (startCS aKey)\n",
    "-- One more time to store\n",
    "\n",
    "cipheredText = encoder aMessage (startCS aKey)"
   ]
  },
  {
   "cell_type": "code",
   "execution_count": 16,
   "metadata": {
    "collapsed": false
   },
   "outputs": [
    {
     "data": {
      "text/plain": [
       "\"If you can read this, then what are you doing with your life?\""
      ]
     },
     "metadata": {},
     "output_type": "display_data"
    }
   ],
   "source": [
    "decoder cipheredText (startCS aKey)"
   ]
  }
 ],
 "metadata": {
  "kernelspec": {
   "argv": [
    "/home/dotmilk/.local/bin/ihaskell",
    "kernel",
    "{connection_file}",
    "--ghclib",
    "/home/dotmilk/.stack/programs/x86_64-linux/ghc-tinfo6-8.6.5/lib/ghc-8.6.5",
    "+RTS",
    "-M3g",
    "-N2",
    "-RTS",
    "--stack"
   ],
   "display_name": "Haskell",
   "env": null,
   "interrupt_mode": "signal",
   "language": "haskell",
   "metadata": null,
   "name": "haskell"
  },
  "language_info": {
   "codemirror_mode": "ihaskell",
   "file_extension": ".hs",
   "name": "haskell",
   "pygments_lexer": "Haskell",
   "version": "8.6.5"
  },
  "name": "Cipher.ipynb"
 },
 "nbformat": 4,
 "nbformat_minor": 4
}
